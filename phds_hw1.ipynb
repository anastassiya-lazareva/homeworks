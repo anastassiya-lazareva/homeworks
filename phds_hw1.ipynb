{
  "cells": [
    {
      "cell_type": "markdown",
      "metadata": {},
      "source": [
        "# <a href=\"https://thetahat.ru/courses/ph-ds-2025-spr\">Phystech@DataScience</a>\n",
        "## Домашнее задание 1. Простой анализ данных.\n"
      ]
    },
    {
      "cell_type": "markdown",
      "metadata": {},
      "source": [
        "**Правила, <font color=\"red\">прочитайте внимательно</font>:**\n",
        "\n",
        "* Выполненную работу нужно отправить телеграм-боту `@thetahat_pds_bot`. Для начала работы с ботом каждый раз отправляйте `/start`. Дождитесь подтверждения от бота, что он принял файл. Если подтверждения нет, то что-то не так. **Работы, присланные иным способом, не принимаются.**\n",
        "* Дедлайн см. в боте. После дедлайна работы не принимаются кроме случаев наличия уважительной причины.\n",
        "* Прислать нужно **ноутбук в формате `ipynb`**. Если вы строите интерактивные графики, их стоит прислать в формате html.\n",
        "* Следите за размером файлов. **Бот не может принимать файлы весом более 20 Мб.** Если файл получается больше, заранее разделите его на несколько.\n",
        "* Выполнять задание необходимо полностью самостоятельно. **При обнаружении списывания всем участникам списывания дается штраф -2 балла к итоговой оценке за семестр.**\n",
        "* Решения, размещенные на каких-либо интернет-ресурсах, не принимаются. Кроме того, публикация решения в открытом доступе может быть приравнена к предоставлении возможности списать.\n",
        "* Обратите внимание на <a href=\"https://thetahat.ru/courses/ai-rules\"><b>правила использования ИИ-инструментов</b></a> при решении домашнего задания.\n",
        "* **Код из рассказанных на занятиях ноутбуков** можно использовать без ограничений.\n",
        "* Для выполнения задания используйте этот ноутбук в качестве основы, ничего не удаляя из него. Можно добавлять необходимое количество ячеек.\n",
        "* Комментарии к решению пишите в markdown-ячейках.\n",
        "* Выполнение задания (ход решения, выводы и пр.) должно быть осуществлено на русском языке.\n",
        "* Решение проверяется системой ИИ-проверки <a href=\"https://thetahat.ru/\"><img src=\"attachment:ai_eval_small.png\" style=\"display: inline; vertical-align: middle;\"></a> **ThetaGrader**. Результат проверки валидируется и исправляется человеком, после чего комментарии отправляются студентам.\n",
        "* Если код будет не понятен проверяющему, оценка может быть снижена.\n",
        "* Никакой код из данного задания при проверке запускаться не будет. *Если код студента не выполнен, недописан и т.д., то он не оценивается.*\n",
        "\n",
        "<b><font size=\"5\" color=\"red\">Важно!!! Правила заполнения ноутбука:</font></b>\n",
        "* Запрещается удалять имеющиеся в ноутбуке ячейки, менять местами положения задач.\n",
        "* Сохраняйте естественный линейный порядок повествования в ноутбуке сверху-вниз.\n",
        "* Отвечайте на вопросы, а также добавляйте новые ячейки в предложенных местах, которые обозначены `<...>`.\n",
        "* В markdown-ячейка, содержащих описание задачи, находятся специальные отметки, которые <font color=\"red\"><b>запрещается модифицировать</b></font>.\n",
        "* При нарушении данных правил работа может получить 0 баллов.\n",
        "\n",
        "\n",
        "**Перед выполнением задания посмотрите презентацию по выполнению и оформлению домашних заданий с занятия 1.**\n",
        "\n",
        "\n",
        "**Баллы за задание:**\n",
        "\n",
        "<b><font color=\"blue\">Легкая часть</font></b> (достаточно на \"хор\"):\n",
        "* Задача 1 &mdash; 30 баллов\n",
        "* Задача 2 &mdash; 20 баллов\n",
        "* Задача 3 &mdash; 90 баллов\n",
        "\n",
        "<b><font color=\"orange\">Сложная часть</font></b> (необходимо на \"отл\"):\n",
        "* Задача 4 &mdash; 50 баллов"
      ]
    },
    {
      "cell_type": "code",
      "execution_count": 24,
      "metadata": {},
      "outputs": [],
      "source": [
        "# Bot check\n",
        "\n",
        "# HW_ID: phds_hw1\n",
        "# Бот проверит этот ID и предупредит, если случайно сдать что-то не то\n",
        "\n",
        "# Status: not final\n",
        "# Перед отправкой в финальном решении удали \"not\" в строчке выше\n",
        "# Так бот проверит, что ты отправляешь финальную версию, а не промежуточную"
      ]
    },
    {
      "cell_type": "markdown",
      "metadata": {},
      "source": [
        "#### Тренировочные задачи на библиотеки\n",
        "\n",
        "Если вы неуверенно себя чувствуете в библиотеках numpy, pandas, matplotlib, seaborn, рекомендуем сначала\n",
        "* посмотреть материалы по библиотекам на нашем сайте\n",
        "* прорешать упражнения на библиотеки на странице курса\n",
        "* прорешать <a href=\"https://contest.yandex.ru/contest/75090/enter/\">два упражнения на numpy</a> в системе Яндекс.Контест."
      ]
    },
    {
      "cell_type": "markdown",
      "metadata": {
        "id": "NqmgM-Tj13ur"
      },
      "source": [
        "---\n",
        "### <font color=\"blue\"><i>Легкая часть</i></font>\n",
        "\n",
        "### Задача 1\n",
        "\n",
        "В этой задаче вам предстоит визуализировать центральную предельную теорему.\n",
        "\n",
        "*a).* Пусть $\\xi_1, \\xi_2,..., \\xi_n$ — независимые случайные величины, имеющие распределение $Exp(\\lambda)$. Согласно центральной предельной теореме, имеет место сходимость $$Z_n = \\frac{X_n - \\mathsf{E}X_n}{\\sqrt{\\mathsf{D}X_n}} \\stackrel{d}{\\longrightarrow} \\mathcal{N}(0, 1),$$ где $X_n = \\sum_{i=1}^n \\xi_i$.\n",
        "\n",
        "Чтобы убедиться в этом, вам необходимо сгенерировать множество наборов случайных величин и рассчитать значение $Z_n$ для каждого набора, в зависимости от его размера."
      ]
    },
    {
      "cell_type": "markdown",
      "metadata": {
        "ai_eval_tool": {
          "snippet_hash": "f86f513d739c35f0e2e3c70ecf1837ab",
          "snippet_label": "start"
        },
        "id": "aK3PmF-W_BmJ"
      },
      "source": [
        "<!-- Внимание! Здесь находится специальная отметка. Ее нельзя удалять! Ответы на вопросы / выводы для предыдущего пункта(ов) пиши в ячейках выше! -->\n",
        "<!-- f86f513d739c35f0e2e3c70ecf1837ab -->\n",
        "Сгенерируйте 1000 наборов случайных величин $\\xi_1^j,..., \\xi_{300}^j$ из распределения $Exp(1)$."
      ]
    },
    {
      "cell_type": "code",
      "execution_count": 25,
      "metadata": {},
      "outputs": [],
      "source": [
        "import numpy as np\n",
        "import matplotlib.pyplot as plt"
      ]
    },
    {
      "cell_type": "code",
      "execution_count": 26,
      "metadata": {
        "id": "102d19524560a895"
      },
      "outputs": [],
      "source": [
        "sample_size = 300  # размер выборки\n",
        "num_samples= 1000  # количество выборок\n",
        "scale = 1 # параметр экспоненциального распределения (scale = 1 / λ)\n",
        "samples = np.random.exponential(scale=scale, size=(num_samples, sample_size))"
      ]
    },
    {
      "cell_type": "markdown",
      "metadata": {
        "id": "7ba8d90d172f1a1b"
      },
      "source": [
        "По каждому из них посчитайте сумму $X_{jn} = \\sum\\limits_{i=1}^n \\xi_i^j$ для $1 \\leqslant n \\leqslant 300$, то есть сумма первых $n$ величин $j$-го набора."
      ]
    },
    {
      "cell_type": "code",
      "execution_count": 27,
      "metadata": {
        "id": "3ec97a1af7e88f71"
      },
      "outputs": [],
      "source": [
        "sums = np.cumsum(samples, axis = 1)"
      ]
    },
    {
      "cell_type": "markdown",
      "metadata": {
        "id": "a55a25e43ceba861"
      },
      "source": [
        "Для этого среднего посчитайте величину $Z_{jn} = \\frac{X_{jn} - \\mathsf{E}X_{jn}}{\\sqrt{\\mathsf{D}X_{jn}}}$.\n",
        "\n",
        "*Подсказка: можно воспользоваться возможностями библиотеки `numpy`.*"
      ]
    },
    {
      "cell_type": "code",
      "execution_count": null,
      "metadata": {
        "id": "db9eb686927357"
      },
      "outputs": [
        {
          "ename": "ValueError",
          "evalue": "operands could not be broadcast together with shapes (1000,300) (1000,) ",
          "output_type": "error",
          "traceback": [
            "\u001b[1;31m---------------------------------------------------------------------------\u001b[0m",
            "\u001b[1;31mValueError\u001b[0m                                Traceback (most recent call last)",
            "\u001b[1;32m~\\AppData\\Local\\Temp/ipykernel_21956/82939808.py\u001b[0m in \u001b[0;36m<module>\u001b[1;34m\u001b[0m\n\u001b[0;32m      3\u001b[0m \u001b[0msamples_mean\u001b[0m \u001b[1;33m=\u001b[0m \u001b[0msums\u001b[0m \u001b[1;33m/\u001b[0m \u001b[0mdivisors\u001b[0m\u001b[1;33m\u001b[0m\u001b[1;33m\u001b[0m\u001b[0m\n\u001b[0;32m      4\u001b[0m \u001b[0msamples_var\u001b[0m \u001b[1;33m=\u001b[0m \u001b[0mnp\u001b[0m\u001b[1;33m.\u001b[0m\u001b[0mvar\u001b[0m\u001b[1;33m(\u001b[0m\u001b[0msamples\u001b[0m\u001b[1;33m,\u001b[0m \u001b[0maxis\u001b[0m \u001b[1;33m=\u001b[0m \u001b[1;36m1\u001b[0m\u001b[1;33m)\u001b[0m\u001b[1;33m\u001b[0m\u001b[1;33m\u001b[0m\u001b[0m\n\u001b[1;32m----> 5\u001b[1;33m \u001b[0msamples_z\u001b[0m \u001b[1;33m=\u001b[0m \u001b[1;33m(\u001b[0m\u001b[0msums\u001b[0m \u001b[1;33m-\u001b[0m \u001b[1;36m300\u001b[0m\u001b[1;33m*\u001b[0m\u001b[0msamples_mean\u001b[0m\u001b[1;33m)\u001b[0m\u001b[1;33m/\u001b[0m\u001b[1;33m(\u001b[0m\u001b[0mnp\u001b[0m\u001b[1;33m.\u001b[0m\u001b[0msqrt\u001b[0m\u001b[1;33m(\u001b[0m\u001b[0msamples_var\u001b[0m\u001b[1;33m)\u001b[0m\u001b[1;33m*\u001b[0m\u001b[0mnp\u001b[0m\u001b[1;33m.\u001b[0m\u001b[0msqrt\u001b[0m\u001b[1;33m(\u001b[0m\u001b[1;36m300\u001b[0m\u001b[1;33m)\u001b[0m\u001b[1;33m)\u001b[0m\u001b[1;33m\u001b[0m\u001b[1;33m\u001b[0m\u001b[0m\n\u001b[0m",
            "\u001b[1;31mValueError\u001b[0m: operands could not be broadcast together with shapes (1000,300) (1000,) "
          ]
        }
      ],
      "source": [
        "#Посчитаем среднее по каждой кумулятивной сумме\n",
        "divisors = np.arange(1,301)\n",
        "samples_mean = sums / divisors\n",
        "#Посчитаем дисперсию по кумулятивной сумме\n",
        "sums_sq = np.cumsum(samples**2, axis = 1)\n",
        "samples_var = np.var(samples, axis = 1)\n",
        "samples_z = (sums - 300*samples_mean)/(np.sqrt(samples_var)*np.sqrt(300))"
      ]
    },
    {
      "cell_type": "markdown",
      "metadata": {
        "id": "a33ecd5bcd2cf82c"
      },
      "source": [
        "Для каждого $j$ нанесите на один график зависимость $Z_{jn}$ от $n$ с помощью `plt.plot`. Каждая кривая должна быть нарисована *одним цветом* с прозрачностью `alpha=0.05`. Сходятся ли значения $Z_{jn}$ к какой-либо константе?"
      ]
    },
    {
      "cell_type": "code",
      "execution_count": null,
      "metadata": {
        "id": "14ffd9de409ec7c8"
      },
      "outputs": [
        {
          "data": {
            "image/png": "[encoded data removed]",
            "text/plain": [
              "<Figure size 720x432 with 1 Axes>"
            ]
          },
          "metadata": {
            "needs_background": "light"
          },
          "output_type": "display_data"
        }
      ],
      "source": [
        "plt.figure(figsize=(10, 6))\n",
        "for j in range(num_samples):\n",
        "    X_j = samples[j]  # выборка из 300 элементов\n",
        "    mean_j = np.mean(X_j)\n",
        "    var_j = np.var(X_j)\n",
        "\n",
        "    # Накапливаем суммы: S_{jn}\n",
        "    cumulative_sums = np.cumsum(X_j)  # shape (300,)\n",
        "    n_vals = np.arange(1, sample_size + 1)\n",
        "\n",
        "    # Вычисляем Z_{jn}\n",
        "    Z_jn = (cumulative_sums - n_vals * mean_j) / (np.sqrt(var_j) * np.sqrt(n_vals))\n",
        "\n",
        "    # Рисуем график для одного j\n",
        "    plt.plot(n_vals, Z_jn, color='blue', alpha=0.05)\n",
        "\n",
        "# Оформление\n",
        "plt.title(r\"Зависимость $Z_{jn}$ от $n$ для каждой выборки $j$\")\n",
        "plt.xlabel(\"n\")\n",
        "plt.ylabel(r\"$Z_{jn}$\")\n",
        "plt.grid(True)\n",
        "plt.tight_layout()\n",
        "plt.show()"
      ]
    },
    {
      "cell_type": "markdown",
      "metadata": {
        "id": "6693c3c8d14e9f19"
      },
      "source": [
        "\n",
        "Для $n=300$ по набору случайных величин $Z_{1,300}, ..., Z_{1000,300}$ постройте гистограмму. Похожа ли она на плотность распределения $\\mathcal{N}(0, 1)$, которую тоже постройте на том же графике? Не забудьте сделать легенду (подписи на графиках, см. семинар и туториалы)."
      ]
    },
    {
      "cell_type": "code",
      "execution_count": null,
      "metadata": {
        "ai_eval_tool": {
          "snippet_hash": "f86f513d739c35f0e2e3c70ecf1837ab",
          "snippet_label": "end"
        },
        "id": "28fc89fb4b59bc08"
      },
      "outputs": [
        {
          "data": {
            "text/plain": [
              "Ellipsis"
            ]
          },
          "execution_count": 21,
          "metadata": {},
          "output_type": "execute_result"
        }
      ],
      "source": [
        "..."
      ]
    },
    {
      "cell_type": "markdown",
      "metadata": {
        "ai_eval_tool": {
          "snippet_hash": "cea4827a8b4ad2f95d6f08747129db17",
          "snippet_label": "start"
        },
        "id": "12dec92075dc9729"
      },
      "source": [
        "<!-- Внимание! Здесь находится специальная отметка. Ее нельзя удалять! Ответы на вопросы / выводы для предыдущего пункта(ов) пиши в ячейках выше! -->\n",
        "<!-- cea4827a8b4ad2f95d6f08747129db17 -->\n",
        "*b).* Выполните те же действия для распределения $Pois(1)$.\n"
      ]
    },
    {
      "cell_type": "code",
      "execution_count": null,
      "metadata": {
        "id": "bbcjfL0G_lc9"
      },
      "outputs": [
        {
          "data": {
            "text/plain": [
              "Ellipsis"
            ]
          },
          "execution_count": 22,
          "metadata": {},
          "output_type": "execute_result"
        }
      ],
      "source": [
        "..."
      ]
    },
    {
      "cell_type": "markdown",
      "metadata": {
        "id": "tYpt1qny_lx8"
      },
      "source": [
        "Сделайте вывод о смысле центральной предельной теоремы. Подтверждают ли сделанные эксперименты теоретические свойства?"
      ]
    },
    {
      "cell_type": "markdown",
      "metadata": {
        "ai_eval_tool": {
          "snippet_hash": "cea4827a8b4ad2f95d6f08747129db17",
          "snippet_label": "end"
        },
        "id": "fj2HAiIsEgHM"
      },
      "source": [
        "..."
      ]
    },
    {
      "cell_type": "markdown",
      "metadata": {
        "id": "xALFPcQF3TQU"
      },
      "source": [
        "<!-- Внимание! Здесь находится специальная отметка. Ее нельзя удалять! Ответы на вопросы / выводы для предыдущего пункта(ов) пиши в ячейках выше! -->\n",
        "<!-- 00000000000000000000000000000000 -->\n",
        "---\n",
        "### Задача 2\n",
        "\n",
        "<font color=\"blue\">**Профиль физика**</font>\n",
        "\n",
        "Время когерентности кубита подчиняется показательному распределению с математическим ожиданием 100 микросекунд. Найти вероятность того, что среднее время когерентности выборки из 100 кубитов составит не менее 90 микросекунд.\n",
        "\n",
        "<font color=\"green\">**Профиль биология**</font>\n",
        "\n",
        "Время жизни лейкоцита подчиняется показательному распределению с математическим ожиданием 200 часов. Найти вероятность того, что среднее время жизни выборки из 100 лейкоцитов окажется не менее 180 часов."
      ]
    },
    {
      "cell_type": "markdown",
      "metadata": {
        "id": "Ndst0TQnPCQk"
      },
      "source": [
        "---\n",
        "### Задача 3\n",
        "\n",
        "Перед выполнением задачи рекомендуется посмотреть <a href=\"https://thetahat.ru/courses/ph-ds-2025-spr/main/1/phds_main_sem_kNN\">материал</a> с семинара."
      ]
    },
    {
      "cell_type": "markdown",
      "metadata": {
        "id": "Ov2nWFnVoReB"
      },
      "source": [
        "#### 0. Подготовка данных\n",
        "\n",
        "Выбор датасета для выполнения данного задания, зависит от вашего профиля. Выбрать профиль вы можете любой на свое усмотрение. Задания, не относящиеся к вашему профилю, выполнять не нужно.\n",
        "\n",
        "<font color=\"green\">**Профиль биология**</font>\n",
        "\n",
        " Анемия — это состояние, характеризующееся снижением уровня гемоглобина или количества эритроцитов, что приводит к недостаточному снабжению органов и тканей кислородом. Набор данных, который можно скачать с <a href=\"https://www.kaggle.com/datasets/medelbachirkhellaf/anemia-easylevel\" target=\"_blank\">Kaggle</a>, содержит информацию о пациентах, включая их пол, уровень гемоглобина и другие важные параметры крови, которые используются для диагностики анемии.\n",
        "\n",
        "\n",
        "Загрузите данные с помощью `pandas`."
      ]
    },
    {
      "cell_type": "code",
      "execution_count": null,
      "metadata": {
        "id": "u3XTF4HQoRsu"
      },
      "outputs": [
        {
          "ename": "AttributeError",
          "evalue": "'ellipsis' object has no attribute 'head'",
          "output_type": "error",
          "traceback": [
            "\u001b[1;31m---------------------------------------------------------------------------\u001b[0m",
            "\u001b[1;31mAttributeError\u001b[0m                            Traceback (most recent call last)",
            "\u001b[1;32m~\\AppData\\Local\\Temp/ipykernel_21956/2776727127.py\u001b[0m in \u001b[0;36m<module>\u001b[1;34m\u001b[0m\n\u001b[0;32m      1\u001b[0m \u001b[0manemia\u001b[0m \u001b[1;33m=\u001b[0m \u001b[1;33m...\u001b[0m\u001b[1;33m\u001b[0m\u001b[1;33m\u001b[0m\u001b[0m\n\u001b[1;32m----> 2\u001b[1;33m \u001b[0manemia\u001b[0m\u001b[1;33m.\u001b[0m\u001b[0mhead\u001b[0m\u001b[1;33m(\u001b[0m\u001b[1;33m)\u001b[0m\u001b[1;33m\u001b[0m\u001b[1;33m\u001b[0m\u001b[0m\n\u001b[0m",
            "\u001b[1;31mAttributeError\u001b[0m: 'ellipsis' object has no attribute 'head'"
          ]
        }
      ],
      "source": [
        "anemia = ...\n",
        "anemia.head()"
      ]
    },
    {
      "cell_type": "markdown",
      "metadata": {
        "id": "AQTWh2U-eJth"
      },
      "source": [
        "Для лучшего понимания процесса работы с данными, уточним ключевые термины.\n",
        "\n",
        "> **Объект** — это единица данных, представленная набором признаков и используемая для обучения или предсказаний модели. В данной задаче являются пассажиры, им соответствуют *строки* таблицы данных.\n",
        ">\n",
        "> **Признаки (features)** — это характеристики, которые описывают объекты в данных. В таблицах данных они обычно соответствуют *колонкам*. В данной задаче мы будем работать со следующими признаками\n",
        ">\n",
        "> * `GENDER` &mdash; 0: Мужчина, 1: Женщина\n",
        ">\n",
        "> * `Hemoglobin` &mdash;\n",
        "Уровень гемоглобина в крови. Гемоглобин — это белок, содержащийся в эритроцитах, который отвечает за перенос кислорода от легких к органам и тканям, а также за транспортировку углекислого газа обратно в легкие.\n",
        ">\n",
        "> * `MCH` (Mean Corpuscular Hemoglobin) &mdash;\n",
        "Среднее содержание гемоглобина в эритроците. Этот показатель отражает количество гемоглобина в одном эритроците.\n",
        ">\n",
        "> * `MCHC` (Mean Corpuscular Hemoglobin Concentration) &mdash;\n",
        "Средняя концентрация гемоглобина в эритроците. Показывает, насколько насыщены гемоглобином эритроциты.\n",
        ">\n",
        "> * `MCV` (Mean Corpuscular Volume) &mdash;\n",
        "Средний объем эритроцита. Этот параметр измеряет средний размер эритроцитов.\n",
        ">\n",
        ">**Таргет (target)** — это целевая переменная, которую мы хотим предсказать. В данной задаче мы будем предсказывать `IDENTIFICATION` — бинарная переменная, указывающая, страдает ли пациент анемией (1) или нет (0). Значения этой переменной имеются для обучающего набора данных, а для тестого — нет.\n",
        "\n",
        "Из каждой части оставим признаки, с которыми мы будем работать, а также отдельно &mdash; целевой признак, который мы хотим предсказать.\n",
        "\n",
        "\n"
      ]
    },
    {
      "cell_type": "code",
      "execution_count": null,
      "metadata": {
        "id": "1pA6iDn8oRwi"
      },
      "outputs": [],
      "source": [
        "features_columns = [\"GENDER\", \"Hemoglobin\", \"MCH\", \"MCHC\", \"MCV\"]\n",
        "target_column = \"IDENTIFICATION\"  # Целевой признак\n",
        "\n",
        "X, y = <...>"
      ]
    },
    {
      "cell_type": "markdown",
      "metadata": {
        "id": "Dq1yWCL-S_Xg"
      },
      "source": [
        "\n",
        "\n",
        "<font color=\"blue\">**Профиль физика**</font>\n",
        "\n",
        "Данное исследование посвящено разработке эффективного подхода к проектированию и адаптации шасси для электромобилей с использованием методов машинного обучения. Внедрение модели машинного обучения позволяет прогнозировать и находить наиболее подходящие материалы для изготовления шасси, что способствует оптимизации конструкции, снижению веса и повышению производительности электромобилей. Набор данных, который можно скачать с <a href=\"https://www.kaggle.com/datasets/purushottamnawale/materials/data\" target=\"_blank\">Kaggle</a>, содержит информацию о различных материалах, их свойствах и характеристиках.\n",
        "\n",
        "\n",
        "Загрузите данные с помощью `pandas`."
      ]
    },
    {
      "cell_type": "code",
      "execution_count": null,
      "metadata": {
        "id": "nQK7YbblTDmi"
      },
      "outputs": [],
      "source": [
        "material = ..."
      ]
    },
    {
      "cell_type": "markdown",
      "metadata": {
        "id": "B-nc01Iixi1f"
      },
      "source": [
        "\n",
        "Для лучшего понимания процесса работы с данными, уточним ключевые термины.\n",
        "\n",
        "> **Объект** — это единица данных, представленная набором признаков и используемая для обучения или предсказаний модели. В данной задаче являются пассажиры, им соответствуют *строки* таблицы данных.\n",
        ">\n",
        "> **Признаки (features)** — это характеристики, которые описывают объекты в данных. В таблицах данных они обычно соответствуют *колонкам*. В данной задаче мы будем работать со следующими признаками\n",
        ">\n",
        "> * `Su`   &mdash; **Предел прочности при растяжении в МПа**\n",
        "Максимальное напряжение, которое материал может выдержать перед разрушением при растяжении.\n",
        ">\n",
        "> * `Sy` &mdash; **Предел текучести в МПа.**\n",
        "Напряжение, при котором материал начинает деформироваться пластически (необратимо).\n",
        ">\n",
        "> * `E` &mdash; **Модуль упругости в МПа**\n",
        "Мера жесткости материала, которая показывает, как материал сопротивляется упругой деформации под нагрузкой.\n",
        ">\n",
        "> * `G` &mdash; **Модуль сдвига в МПа**\n",
        "Параметр, который характеризует способность материала сопротивляться деформации при сдвиге.\n",
        ">\n",
        "> * `mu`&mdash; **Коэффициент Пуассона** в безразмерных единицах\n",
        ">* `Ro` &mdash; **Плотность**  в кг/м³\n",
        ">\n",
        ">**Таргет (target)** — это целевая переменная, которую мы хотим предсказать. В данной задаче мы будем предсказывать `Use` — бинарная переменная, указывающая, используется ли материал в машиностроении (1) или нет (0). Значения этой переменной имеются для обучающего набора данных, а для тестого — нет.\n",
        "\n",
        "Из каждой части оставим признаки, с которыми мы будем работать, а также отдельно &mdash; целевой признак, который мы хотим предсказать.\n",
        "\n",
        "\n"
      ]
    },
    {
      "cell_type": "code",
      "execution_count": null,
      "metadata": {
        "id": "gOHSvKM-z5uj"
      },
      "outputs": [],
      "source": [
        "features_columns = [\"Su\", \"Sy\", \"E\", \"G\", \"mu\", \"Ro\"]\n",
        "target_column = \"Use\"  # Целевой признак\n",
        "\n",
        "X, y = <...>"
      ]
    },
    {
      "cell_type": "markdown",
      "metadata": {
        "id": "Cylk0aWCz6Lk"
      },
      "source": [
        "**Данная часть задания является общей для всех профилей**\n",
        "\n",
        "Разделите данные по строкам на две части случайным образом в соотношении 7:3. Первую часть мы будем называть *обучающей*, а вторую &mdash; *тестовой*."
      ]
    },
    {
      "cell_type": "code",
      "execution_count": null,
      "metadata": {
        "id": "kXMmjlvkN3H7"
      },
      "outputs": [],
      "source": []
    },
    {
      "cell_type": "markdown",
      "metadata": {
        "ai_eval_tool": {
          "snippet_hash": "1d3f32f26951fc0f1d89d243d6ab2609",
          "snippet_label": "start"
        },
        "id": "ofn7oGpgCcAI"
      },
      "source": [
        "<!-- Внимание! Здесь находится специальная отметка. Ее нельзя удалять! Ответы на вопросы / выводы для предыдущего пункта(ов) пиши в ячейках выше! -->\n",
        "<!-- 1d3f32f26951fc0f1d89d243d6ab2609 -->\n",
        "#### 1. Исследование\n",
        "\n",
        "\n",
        "\n",
        "> &#x2757; **Внимание.** Эта часть задачи должна выполняться *исключительно на обучающих данных*. За использование тестовых данных решение не будет оценено.\n",
        "\n",
        "Проведите визуальный анализ данных чтобы понять, как различные признаки влияют на целевой. Исследовать можно не целиком обучающие данные, а разделить их на две части по одному из признаков, а далее рассматривать каждую часть отдельно.\n",
        "\n",
        "*Не забывайте про информативность и эстетичность графиков, посмотрите презентацию про оформление домашних заданий.*"
      ]
    },
    {
      "cell_type": "code",
      "execution_count": null,
      "metadata": {
        "id": "LkIm5g5yChw7"
      },
      "outputs": [],
      "source": [
        "..."
      ]
    },
    {
      "cell_type": "markdown",
      "metadata": {
        "ai_eval_tool": {
          "snippet_hash": "1d3f32f26951fc0f1d89d243d6ab2609",
          "snippet_label": "end"
        },
        "id": "u2JSWyNPtFVu"
      },
      "source": [
        "&#x2753; **Вопрос** &#x2753;\n",
        "> По каким признакам можно различить эти классы?\n",
        "\n",
        "**Ваш ответ:** ..."
      ]
    },
    {
      "cell_type": "markdown",
      "metadata": {
        "ai_eval_tool": {
          "snippet_hash": "0f20c8c759566c4fd19d456718a7d5ad",
          "snippet_label": "start"
        },
        "id": "Phh0aDWIBOKO"
      },
      "source": [
        "<!-- Внимание! Здесь находится специальная отметка. Ее нельзя удалять! Ответы на вопросы / выводы для предыдущего пункта(ов) пиши в ячейках выше! -->\n",
        "<!-- 0f20c8c759566c4fd19d456718a7d5ad -->\n",
        "#### 2. Классификация логическими правилами\n",
        "\n",
        "На основе выше проведенного исследования предложите два разных правила в виде решающего дерева, пример которого можете посмотреть в презентации с первой лекции (классификация котиков). Никакие статистические методы использовать не требуется, только логику и графики. Любые решения \"из коробки\" использовать запрещено. Например, достаточно пояснения \"*по графику (описание графика) визуально я увидел, что при X > 100 большинство объектов относится к классу 0, поэтому использую правило (описание правила)*\".\n",
        "\n",
        "В данной задаче достаточно, если первое дерево будет иметь максимальную глубину 2, а второе &mdash; глубину 1, и при этом не является поддеревом первого. Дерево из одного листа имеет глубину 0.\n",
        "\n",
        "*Указание*. Попросите ИИ красиво оформить описание дерева и его пояснение.\n",
        "\n",
        "**Дерево 1:**\n",
        "\n",
        "...\n",
        "\n",
        "**Дерево 2:**\n",
        "\n",
        "...\n",
        "\n",
        "Реализуйте полученные деревья по шаблону"
      ]
    },
    {
      "cell_type": "code",
      "execution_count": null,
      "metadata": {
        "ai_eval_tool": {
          "snippet_hash": "0f20c8c759566c4fd19d456718a7d5ad",
          "snippet_label": "end"
        },
        "id": "ovqn-0u0BSsA"
      },
      "outputs": [],
      "source": [
        "def tree(features: pd.DataFrame) -> pd.Series:\n",
        "    \"\"\"\n",
        "    Предсказание целевого признака для данных features -- pandas-таблица данных.\n",
        "    Возвращает pandas.Series с теми же индексами, что и у features.\n",
        "    \"\"\"\n",
        "\n",
        "    ...\n",
        "    return predicted"
      ]
    },
    {
      "cell_type": "markdown",
      "metadata": {
        "ai_eval_tool": {
          "snippet_hash": "afe89ea3f0480e9b037d4643b1dde349",
          "snippet_label": "start"
        },
        "id": "1AqlNknxF4vL"
      },
      "source": [
        "<!-- Внимание! Здесь находится специальная отметка. Ее нельзя удалять! Ответы на вопросы / выводы для предыдущего пункта(ов) пиши в ячейках выше! -->\n",
        "<!-- afe89ea3f0480e9b037d4643b1dde349 -->\n",
        "Проверьте работоспособность данных моделей на тестовой выборке и оцените качество модели по метрике `accuracy`.\n",
        "\n",
        "> &#x2755; *Примечание.* Полученные значения не влияют на оценку по заданию. Оценивается только корректность и обоснованность решения, а также графики и выводы."
      ]
    },
    {
      "cell_type": "code",
      "execution_count": null,
      "metadata": {
        "id": "uHeZaXj5Frmr"
      },
      "outputs": [],
      "source": [
        "def accuracy(target: pd.Series, predicted: pd.Series) -> float:\n",
        "    \"\"\"\n",
        "    Вычисление критерия качества для предсказания predicted,\n",
        "    если истинные значения -- target.\n",
        "    Возвращает одно вещественное число.\n",
        "    \"\"\"\n",
        "\n",
        "    ..."
      ]
    },
    {
      "cell_type": "code",
      "execution_count": null,
      "metadata": {
        "ai_eval_tool": {
          "snippet_hash": "afe89ea3f0480e9b037d4643b1dde349",
          "snippet_label": "end"
        },
        "id": "dnrOcdmGdmyG"
      },
      "outputs": [],
      "source": [
        "..."
      ]
    },
    {
      "cell_type": "markdown",
      "metadata": {
        "ai_eval_tool": {
          "snippet_hash": "02114b4b60dd4e2f107d9c092bb0de28",
          "snippet_label": "start"
        },
        "id": "SvhX9x7MfneJ"
      },
      "source": [
        "<!-- Внимание! Здесь находится специальная отметка. Ее нельзя удалять! Ответы на вопросы / выводы для предыдущего пункта(ов) пиши в ячейках выше! -->\n",
        "<!-- 02114b4b60dd4e2f107d9c092bb0de28 -->\n",
        "#### 3. Классификация методом ближайшего соседа\n",
        "\n",
        "Постройте классификатор методом ближайшего соседа. Обучите его и оцените качество модели. Сравните с предыдущим методом.\n",
        "\n",
        "Пока никаких преобразований данных делать не нужно.\n",
        "\n",
        "\n"
      ]
    },
    {
      "cell_type": "code",
      "execution_count": null,
      "metadata": {
        "ai_eval_tool": {
          "snippet_hash": "02114b4b60dd4e2f107d9c092bb0de28",
          "snippet_label": "end"
        },
        "id": "VWWVQ2_4fn1q"
      },
      "outputs": [],
      "source": [
        "..."
      ]
    },
    {
      "cell_type": "markdown",
      "metadata": {
        "ai_eval_tool": {
          "snippet_hash": "0cfefb94e103da1fa402064a69b36d3c",
          "snippet_label": "start"
        },
        "id": "QpLg-Q6lHcwU"
      },
      "source": [
        "<!-- Внимание! Здесь находится специальная отметка. Ее нельзя удалять! Ответы на вопросы / выводы для предыдущего пункта(ов) пиши в ячейках выше! -->\n",
        "<!-- 0cfefb94e103da1fa402064a69b36d3c -->\n",
        "\n",
        "Попробуем улучшить результаты предсказаний, для этого надо сначала посмотреть на сами данные. Выведите значение минимального и максимального объекта для каждого признака."
      ]
    },
    {
      "cell_type": "code",
      "execution_count": null,
      "metadata": {
        "id": "cm-r7Lcafo1a"
      },
      "outputs": [],
      "source": [
        "..."
      ]
    },
    {
      "cell_type": "markdown",
      "metadata": {
        "id": "unLgIjUPKQ9V"
      },
      "source": [
        "Как мы видим данные в каждом столбце распределены очень по-разному.\n",
        "\n",
        "&#x2753; **Вопрос** &#x2753;\n",
        "> Как это может повлиять на работу kNN, почему?\n",
        "\n",
        "**Ваш ответ:** ..."
      ]
    },
    {
      "cell_type": "markdown",
      "metadata": {
        "id": "GLr8AdnSIG7S"
      },
      "source": [
        "\n",
        "Для решения этой проблемы нужно привести признаки к единому масштабу. Существует много методов масштабирования рассмотрим работу одного из них &mdash; **минимаксная нормализация**\n",
        "\n",
        "  \n",
        "> **Минимакс** &mdash; линейное преобразование данных в диапазоне $[0, 1]$, где минимальное и максимальное масштабируемые значения соответствуют 0 и 1 соответственно.\n",
        "> Реализуется оно по следующей формуле:\n",
        ">\n",
        "> $$\\widetilde{x}_{ij} = \\frac{x_{ij} - m_j}{M_j - m_j}$$\n",
        ">\n",
        "> где $x_{ij}$ &mdash; значение признака $j$ для объекта $i$, а $m_j$ и $M_j$ &mdash; минимальное и максимальное значения признака $j$ в обучающем наборе данных.  \n",
        "> В модуле `sklearn.preprocessing` есть [класс](https://scikit-learn.org/stable/modules/generated/sklearn.preprocessing.MinMaxScaler.html) `MinMaxScaler`, который реализует эту операцию. Давайте рассмотрим методы этого класса подробнее:\n",
        ">\n",
        "> * `fit(X)`: вычисляет минимальные и максимальные значения для каждого признака.\n",
        ">\n",
        "> * `transform(X)`: применяет масштабирование к данным.\n",
        ">\n",
        "> * `fit_transform(X)`: объединяет оба метода, сначала подгоняя модель, а затем трансформируя данные.\n",
        ">\n",
        "> * `inverse_transform(X)`: восстанавливает исходные данные из масштабированных.\n",
        "\n",
        "\n",
        "Стоит отметить что существуют и другие методы масштабирования данных.\n"
      ]
    },
    {
      "cell_type": "markdown",
      "metadata": {
        "id": "chlNItKEKdae"
      },
      "source": [
        "&#x2753; **Вопрос** &#x2753;\n",
        "> В чем может быть недостаток такого метода масштабирования?\n",
        "\n",
        "**Ваш ответ:** ..."
      ]
    },
    {
      "cell_type": "markdown",
      "metadata": {
        "id": "tqniOYBPKg1r"
      },
      "source": [
        "Смасштабируйте данные"
      ]
    },
    {
      "cell_type": "code",
      "execution_count": null,
      "metadata": {
        "ai_eval_tool": {
          "snippet_hash": "0cfefb94e103da1fa402064a69b36d3c",
          "snippet_label": "end"
        }
      },
      "outputs": [],
      "source": [
        "..."
      ]
    },
    {
      "cell_type": "markdown",
      "metadata": {
        "ai_eval_tool": {
          "snippet_hash": "aaac8e02cfd9c4483e6aab565f95a7f7",
          "snippet_label": "start"
        },
        "id": "2D01wnURo5Ys"
      },
      "source": [
        "<!-- Внимание! Здесь находится специальная отметка. Ее нельзя удалять! Ответы на вопросы / выводы для предыдущего пункта(ов) пиши в ячейках выше! -->\n",
        "<!-- aaac8e02cfd9c4483e6aab565f95a7f7 -->\n",
        "Теперь выведите значения максимума и минимума нормализованных признаков. Обратите внимание `MinMaxScaler` возвращается объект в виде `np.ndarray`."
      ]
    },
    {
      "cell_type": "code",
      "execution_count": null,
      "metadata": {
        "id": "8qlsb9SjNE_a"
      },
      "outputs": [],
      "source": [
        "..."
      ]
    },
    {
      "cell_type": "markdown",
      "metadata": {
        "id": "OV7-PW0pIdq6"
      },
      "source": [
        "Обучите модель и сравните результат предсказаний со стандартизацией и без."
      ]
    },
    {
      "cell_type": "code",
      "execution_count": null,
      "metadata": {
        "id": "BLq3asddIdHr"
      },
      "outputs": [],
      "source": [
        "..."
      ]
    },
    {
      "cell_type": "markdown",
      "metadata": {
        "ai_eval_tool": {
          "snippet_hash": "aaac8e02cfd9c4483e6aab565f95a7f7",
          "snippet_label": "end"
        },
        "id": "KGCAy2x1plhJ"
      },
      "source": [
        "**Вывод:** ..."
      ]
    },
    {
      "cell_type": "markdown",
      "metadata": {
        "ai_eval_tool": {
          "snippet_hash": "14b40ca7bcb797ee7a980d9035a8a62b",
          "snippet_label": "start"
        },
        "id": "e4rkpzoaK1el"
      },
      "source": [
        "<!-- Внимание! Здесь находится специальная отметка. Ее нельзя удалять! Ответы на вопросы / выводы для предыдущего пункта(ов) пиши в ячейках выше! -->\n",
        "<!-- 14b40ca7bcb797ee7a980d9035a8a62b -->\n",
        "**А можем ли мы как-то еще повысить точность модели?**\n",
        "\n",
        "Как мы видели, параметр $k$ числа соседей является необучаемым т.е. гиперпараметром, который выставляется вручную. Выбор оптимального значения $k$ важен, так как слишком маленькое значение может привести к переобучению, а слишком большое — к недообучению.\n",
        "\n",
        "\n",
        "\n",
        "Постройте график зависимости точности (`accuracy_score`) от значения $k$ (от 1 до 20) для обучающей и тестовой выборок.\n"
      ]
    },
    {
      "cell_type": "code",
      "execution_count": null,
      "metadata": {
        "id": "H-fnQKumK2Uf"
      },
      "outputs": [],
      "source": [
        "..."
      ]
    },
    {
      "cell_type": "markdown",
      "metadata": {
        "ai_eval_tool": {
          "snippet_hash": "14b40ca7bcb797ee7a980d9035a8a62b",
          "snippet_label": "end"
        },
        "id": "EDeyEvONX_zX"
      },
      "source": [
        "Сделайте общий вывод по задаче  \n",
        "**Вывод:** ..."
      ]
    },
    {
      "cell_type": "markdown",
      "metadata": {
        "id": "IrgQGY9Q3YUS"
      },
      "source": [
        "<!-- Внимание! Здесь находится специальная отметка. Ее нельзя удалять! Ответы на вопросы / выводы для предыдущего пункта(ов) пиши в ячейках выше! -->\n",
        "<!-- 00000000000000000000000000000000 -->\n",
        "---\n",
        "### <font color=\"orange\"><i>Сложная часть</i></font>\n",
        "\n",
        "### Задача 4"
      ]
    },
    {
      "cell_type": "markdown",
      "metadata": {
        "id": "YbbPSyWCB5qI"
      },
      "source": [
        "<font color=\"blue\">**Профиль физика**</font>  \n",
        "\n",
        "Рассмотрим два атома в возбужденном состоянии, каждый из которых может спонтанно испустить фотон и перейти в основное состояние. Время жизни возбужденного состояния каждого атома $X_1$ и $X_2$ подчиняется экспоненциальному распределению с параметром $\\lambda$, что характерно для процессов спонтанного испускания.  \n",
        "\n",
        "Обозначим:  \n",
        "- $m = \\min(X_1, X_2)$ — время испускания первого фотона, соответствующее времени жизни менее устойчивого атома.  \n",
        "- $M = \\max(X_1, X_2)$ — время испускания второго фотона, соответствующее времени жизни более устойчивого атома.  \n",
        "\n",
        "Найдите математическое ожидание и дисперсию $m$ и $M$.  \n"
      ]
    },
    {
      "cell_type": "markdown",
      "metadata": {
        "id": "2k2nKO0ZCH0h"
      },
      "source": [
        "<font color=\"green\">**Профиль биология**</font>\n",
        "\n",
        "Рассмотрим два молекулярных белка в клетке, каждый из которых подвержен деградации под действием протеаз. Время жизни каждого белка $X_1$ и $X_2$ является случайной величиной, которая подчиняется экспоненциальному распределению с параметром $\\lambda$, что соответствует характерному механизму распада белков в биологических системах.  \n",
        "\n",
        "Обозначим:  \n",
        "- $m = \\min(X_1, X_2)$ — время деградации первого белка, что соответствует скорости разрушения менее стабильного белка.  \n",
        "- $M = \\max(X_1, X_2)$ — время деградации второго белка, которое характеризует устойчивость более долговечного белка.  \n",
        "\n",
        "Найдите математическое ожидание и дисперсию $m$ и $M$.  "
      ]
    }
  ],
  "metadata": {
    "colab": {
      "provenance": []
    },
    "kernelspec": {
      "display_name": "base",
      "language": "python",
      "name": "python3"
    },
    "language_info": {
      "codemirror_mode": {
        "name": "ipython",
        "version": 3
      },
      "file_extension": ".py",
      "mimetype": "text/x-python",
      "name": "python",
      "nbconvert_exporter": "python",
      "pygments_lexer": "ipython3",
      "version": "3.9.7"
    }
  },
  "nbformat": 4,
  "nbformat_minor": 1
}
